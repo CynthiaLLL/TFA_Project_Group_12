{
 "cells": [
  {
   "cell_type": "code",
   "execution_count": 5,
   "id": "aea591a3",
   "metadata": {},
   "outputs": [],
   "source": [
    "import pandas as pd"
   ]
  },
  {
   "cell_type": "code",
   "execution_count": 6,
   "id": "2363130d",
   "metadata": {
    "scrolled": false
   },
   "outputs": [
    {
     "name": "stderr",
     "output_type": "stream",
     "text": [
      "/Users/vickydong/opt/anaconda3/lib/python3.8/site-packages/IPython/core/interactiveshell.py:3437: DtypeWarning: Columns (20,31,32) have mixed types.Specify dtype option on import or set low_memory=False.\n",
      "  exec(code_obj, self.user_global_ns, self.user_ns)\n"
     ]
    }
   ],
   "source": [
    "df = pd.read_csv(\"311_Service_Requests_2020.csv\")"
   ]
  },
  {
   "cell_type": "code",
   "execution_count": null,
   "id": "fe0f5d65",
   "metadata": {},
   "outputs": [],
   "source": [
    "#choose the zip code 10025"
   ]
  },
  {
   "cell_type": "code",
   "execution_count": 31,
   "id": "2dbcaa58",
   "metadata": {},
   "outputs": [],
   "source": [
    "df_10025 = df[df['Incident Zip']==10025]"
   ]
  },
  {
   "cell_type": "code",
   "execution_count": 23,
   "id": "6634036b",
   "metadata": {},
   "outputs": [],
   "source": [
    "num_park_10025 = (df_10025['Complaint Type']=='Illegal Parking').sum()"
   ]
  },
  {
   "cell_type": "code",
   "execution_count": 29,
   "id": "3743b446",
   "metadata": {},
   "outputs": [],
   "source": [
    "num_total_10025 = len(df_10025)"
   ]
  },
  {
   "cell_type": "code",
   "execution_count": 36,
   "id": "274ffaa6",
   "metadata": {},
   "outputs": [],
   "source": [
    "num_park_all = (df['Complaint Type']=='Illegal Parking').sum()"
   ]
  },
  {
   "cell_type": "code",
   "execution_count": 37,
   "id": "d0796a3e",
   "metadata": {},
   "outputs": [],
   "source": [
    "num_total_all = len(df)"
   ]
  },
  {
   "cell_type": "code",
   "execution_count": 38,
   "id": "39cce686",
   "metadata": {},
   "outputs": [],
   "source": [
    "frac_10025 = num_park_10025/num_total_10025\n",
    "frac_all = num_park_all/num_total_all"
   ]
  },
  {
   "cell_type": "code",
   "execution_count": 39,
   "id": "fee845eb",
   "metadata": {},
   "outputs": [],
   "source": [
    "higher_parking_proportion = frac_10025 > frac_all"
   ]
  },
  {
   "cell_type": "code",
   "execution_count": 41,
   "id": "8bae9051",
   "metadata": {
    "scrolled": true
   },
   "outputs": [
    {
     "data": {
      "text/plain": [
       "False"
      ]
     },
     "execution_count": 41,
     "metadata": {},
     "output_type": "execute_result"
    }
   ],
   "source": [
    "higher_parking_proportion"
   ]
  }
 ],
 "metadata": {
  "kernelspec": {
   "display_name": "Python 3",
   "language": "python",
   "name": "python3"
  },
  "language_info": {
   "codemirror_mode": {
    "name": "ipython",
    "version": 3
   },
   "file_extension": ".py",
   "mimetype": "text/x-python",
   "name": "python",
   "nbconvert_exporter": "python",
   "pygments_lexer": "ipython3",
   "version": "3.8.8"
  }
 },
 "nbformat": 4,
 "nbformat_minor": 5
}
